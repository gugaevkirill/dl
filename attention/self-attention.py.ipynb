{
 "cells": [
  {
   "cell_type": "markdown",
   "source": [
    "# Self-Attention"
   ],
   "metadata": {
    "collapsed": false
   },
   "id": "9f454b68d1326041"
  },
  {
   "cell_type": "markdown",
   "source": [
    "## Embedding an Input Sentence"
   ],
   "metadata": {
    "collapsed": false
   },
   "id": "26c966c693e67cda"
  },
  {
   "cell_type": "code",
   "execution_count": 5,
   "id": "initial_id",
   "metadata": {
    "collapsed": true,
    "ExecuteTime": {
     "end_time": "2024-10-17T22:07:45.303056Z",
     "start_time": "2024-10-17T22:07:45.299423Z"
    }
   },
   "outputs": [
    {
     "data": {
      "text/plain": "{'Life': 0, 'dessert': 1, 'eat': 2, 'first': 3, 'is': 4, 'short': 5}"
     },
     "execution_count": 5,
     "metadata": {},
     "output_type": "execute_result"
    }
   ],
   "source": [
    "sentence = 'Life is short, eat dessert first'\n",
    "\n",
    "dc = {s:i for i,s in enumerate(sorted(sentence.replace(',', '').split()))}\n",
    "dc"
   ]
  },
  {
   "cell_type": "code",
   "outputs": [
    {
     "name": "stdout",
     "output_type": "stream",
     "text": [
      "tensor([0, 4, 5, 2, 1, 3])\n"
     ]
    }
   ],
   "source": [
    "import torch\n",
    "\n",
    "sentence_int = torch.tensor([dc[s] for s in sentence.replace(',', '').split()])\n",
    "print(sentence_int)"
   ],
   "metadata": {
    "collapsed": false,
    "ExecuteTime": {
     "end_time": "2024-10-17T22:12:29.208372Z",
     "start_time": "2024-10-17T22:12:29.199941Z"
    }
   },
   "id": "a7677ffaeec84234",
   "execution_count": 8
  },
  {
   "cell_type": "code",
   "outputs": [
    {
     "name": "stdout",
     "output_type": "stream",
     "text": [
      "tensor([[ 0.3374, -0.1778, -0.3035, -0.5880,  0.3486,  0.6603, -0.2196, -0.3792,\n",
      "          0.7671, -1.1925,  0.6984, -1.4097,  0.1794,  1.8951,  0.4954,  0.2692],\n",
      "        [ 0.5146,  0.9938, -0.2587, -1.0826, -0.0444,  1.6236, -2.3229,  1.0878,\n",
      "          0.6716,  0.6933, -0.9487, -0.0765, -0.1526,  0.1167,  0.4403, -1.4465],\n",
      "        [ 0.2553, -0.5496,  1.0042,  0.8272, -0.3948,  0.4892, -0.2168, -1.7472,\n",
      "         -1.6025, -1.0764,  0.9031, -0.7218, -0.5951, -0.7112,  0.6230, -1.3729],\n",
      "        [-1.3250,  0.1784, -2.1338,  1.0524, -0.3885, -0.9343, -0.4991, -1.0867,\n",
      "          0.8805,  1.5542,  0.6266, -0.1755,  0.0983, -0.0935,  0.2662, -0.5850],\n",
      "        [-0.0770, -1.0205, -0.1690,  0.9178,  1.5810,  1.3010,  1.2753, -0.2010,\n",
      "          0.4965, -1.5723,  0.9666, -1.1481, -1.1589,  0.3255, -0.6315, -2.8400],\n",
      "        [ 0.8768,  1.6221, -1.4779,  1.1331, -1.2203,  1.3139,  1.0533,  0.1388,\n",
      "          2.2473, -0.8036, -0.2808,  0.7697, -0.6596, -0.7979,  0.1838,  0.2293]])\n"
     ]
    }
   ],
   "source": [
    "torch.manual_seed(123)\n",
    "\n",
    "embed = torch.nn.Embedding(len(dc), 16)\n",
    "embedded_sentence = embed(sentence_int).detach()\n",
    "\n",
    "print(embedded_sentence.shape)\n",
    "print(embedded_sentence)"
   ],
   "metadata": {
    "collapsed": false,
    "ExecuteTime": {
     "end_time": "2024-10-17T22:25:57.336983Z",
     "start_time": "2024-10-17T22:25:57.321911Z"
    }
   },
   "id": "70f9c916418590fc",
   "execution_count": 16
  },
  {
   "cell_type": "markdown",
   "source": [
    "## Defining the Weight Matrices"
   ],
   "metadata": {
    "collapsed": false
   },
   "id": "be21bca60ff96914"
  },
  {
   "cell_type": "code",
   "outputs": [],
   "source": [
    "torch.manual_seed(123)\n",
    "\n",
    "d = embedded_sentence.shape[1]\n",
    "d_q, d_k, d_v = 24, 24, 28\n",
    "\n",
    "W_query = torch.nn.Parameter(torch.rand(d_q, d))\n",
    "W_key = torch.nn.Parameter(torch.rand(d_k, d))\n",
    "W_value = torch.nn.Parameter(torch.rand(d_v, d))"
   ],
   "metadata": {
    "collapsed": false,
    "ExecuteTime": {
     "end_time": "2024-10-17T22:33:51.295851Z",
     "start_time": "2024-10-17T22:33:51.282222Z"
    }
   },
   "id": "db0dc171e04778cf",
   "execution_count": 19
  },
  {
   "cell_type": "markdown",
   "source": [
    "## Computing the Unnormalized Attention Weights"
   ],
   "metadata": {
    "collapsed": false
   },
   "id": "fd0da64cd3760dd7"
  },
  {
   "cell_type": "code",
   "outputs": [
    {
     "name": "stdout",
     "output_type": "stream",
     "text": [
      "torch.Size([24])\n",
      "tensor([ 0.8982,  0.1030,  0.4428,  0.6328, -1.7003,  1.3489, -0.3082, -0.5900,\n",
      "        -0.9257, -0.7688,  1.8828, -1.6065, -0.8011, -0.4114, -0.6116,  1.3902,\n",
      "        -0.1460,  0.0244, -0.5577,  1.5972, -2.2190, -0.0214,  0.2002,  1.3752],\n",
      "       grad_fn=<MvBackward0>)\n",
      "torch.Size([24])\n",
      "tensor([-0.0809, -1.2746, -2.3948, -0.3425,  1.5967,  0.5399,  0.9113,  0.0962,\n",
      "         0.7300, -1.0553,  1.2533, -0.2113,  1.0208, -0.7470,  1.5171,  0.2773,\n",
      "        -0.3173,  0.2698,  1.5237, -1.0970,  1.3849,  0.4400, -2.4926,  0.3594],\n",
      "       grad_fn=<MvBackward0>)\n",
      "torch.Size([28])\n",
      "tensor([ 0.0166, -0.0809,  1.2402,  1.2786,  1.6755,  0.5242,  0.5165,  0.2638,\n",
      "         0.1946,  0.1296, -0.2176, -1.2548, -0.9272, -1.3402, -0.4107, -0.0859,\n",
      "         1.0926,  0.4078, -0.6770,  0.1110, -1.1055,  0.3156, -0.3169,  0.7937,\n",
      "        -1.1166,  3.0497, -0.2863,  1.5513], grad_fn=<MvBackward0>)\n"
     ]
    }
   ],
   "source": [
    "# Word 2 embedding\n",
    "x_2 = embedded_sentence[1]\n",
    "\n",
    "query_2 = W_query.matmul(x_2)\n",
    "key_2 = W_key.matmul(x_2)\n",
    "value_2 = W_value.matmul(x_2)\n",
    "\n",
    "print(query_2.shape)\n",
    "print(query_2)\n",
    "\n",
    "print(key_2.shape)\n",
    "print(key_2)\n",
    "\n",
    "print(value_2.shape)\n",
    "print(value_2)"
   ],
   "metadata": {
    "collapsed": false,
    "ExecuteTime": {
     "end_time": "2024-10-17T22:37:00.412861Z",
     "start_time": "2024-10-17T22:37:00.402184Z"
    }
   },
   "id": "b2fa3dfc8c5e3e60",
   "execution_count": 23
  },
  {
   "cell_type": "code",
   "outputs": [
    {
     "name": "stdout",
     "output_type": "stream",
     "text": [
      "keys.shape: torch.Size([6, 24])\n",
      "values.shape: torch.Size([6, 28])\n"
     ]
    }
   ],
   "source": [
    "keys = W_key.matmul(embedded_sentence.T).T\n",
    "values = W_value.matmul(embedded_sentence.T).T\n",
    "\n",
    "print(\"keys.shape:\", keys.shape)\n",
    "print(\"values.shape:\", values.shape)"
   ],
   "metadata": {
    "collapsed": false,
    "ExecuteTime": {
     "end_time": "2024-10-17T22:37:51.931894Z",
     "start_time": "2024-10-17T22:37:51.926039Z"
    }
   },
   "id": "7e11ac56b61bc88a",
   "execution_count": 24
  },
  {
   "cell_type": "code",
   "outputs": [
    {
     "name": "stdout",
     "output_type": "stream",
     "text": [
      "tensor(11.1466, grad_fn=<DotBackward0>)\n"
     ]
    }
   ],
   "source": [
    "omega_24 = query_2.dot(keys[4])\n",
    "print(omega_24)"
   ],
   "metadata": {
    "collapsed": false,
    "ExecuteTime": {
     "end_time": "2024-10-17T22:39:49.783794Z",
     "start_time": "2024-10-17T22:39:49.776874Z"
    }
   },
   "id": "a61541d533192e34",
   "execution_count": 25
  },
  {
   "cell_type": "code",
   "outputs": [
    {
     "data": {
      "text/plain": "tensor([ 8.5808, -7.6597,  3.2558,  1.0395, 11.1466, -0.4800],\n       grad_fn=<SqueezeBackward4>)"
     },
     "execution_count": 30,
     "metadata": {},
     "output_type": "execute_result"
    }
   ],
   "source": [
    "# Attention weights\n",
    "omega_2 = query_2.matmul(keys.T)\n",
    "omega_2"
   ],
   "metadata": {
    "collapsed": false,
    "ExecuteTime": {
     "end_time": "2024-10-17T22:41:13.660034Z",
     "start_time": "2024-10-17T22:41:13.650250Z"
    }
   },
   "id": "6d4c383004f7240f",
   "execution_count": 30
  },
  {
   "cell_type": "markdown",
   "source": [
    "## Computing the Attention Scores"
   ],
   "metadata": {
    "collapsed": false
   },
   "id": "9f0476fde09831df"
  },
  {
   "cell_type": "code",
   "outputs": [
    {
     "data": {
      "text/plain": "tensor(16.3847, grad_fn=<LinalgVectorNormBackward0>)"
     },
     "execution_count": 33,
     "metadata": {},
     "output_type": "execute_result"
    }
   ],
   "source": [
    "# Weights norm before scaling\n",
    "torch.norm(omega_2)"
   ],
   "metadata": {
    "collapsed": false,
    "ExecuteTime": {
     "end_time": "2024-10-17T22:45:08.210603Z",
     "start_time": "2024-10-17T22:45:08.205333Z"
    }
   },
   "id": "3a1a2e298f9de26b",
   "execution_count": 33
  },
  {
   "cell_type": "code",
   "outputs": [
    {
     "name": "stdout",
     "output_type": "stream",
     "text": [
      "tensor([0.2912, 0.0106, 0.0982, 0.0625, 0.4917, 0.0458],\n",
      "       grad_fn=<SoftmaxBackward0>)\n"
     ]
    }
   ],
   "source": [
    "import torch.nn.functional as F\n",
    "\n",
    "# Normalize by sq. root of d_k to mitigate variance growth of dot product omega_2\n",
    "# with dimension growth \n",
    "attention_weights_2 = F.softmax(omega_2 / d_k**0.5, dim=0)\n",
    "print(attention_weights_2)"
   ],
   "metadata": {
    "collapsed": false,
    "ExecuteTime": {
     "end_time": "2024-10-17T22:52:24.746061Z",
     "start_time": "2024-10-17T22:52:24.737857Z"
    }
   },
   "id": "1cd699e8d1c3a6bb",
   "execution_count": 34
  },
  {
   "cell_type": "code",
   "outputs": [
    {
     "name": "stdout",
     "output_type": "stream",
     "text": [
      "torch.Size([28])\n",
      "tensor([-1.5993,  0.0156,  1.2670,  0.0032, -0.6460, -1.1407, -0.4908, -1.4632,\n",
      "         0.4747,  1.1926,  0.4506, -0.7110,  0.0602,  0.7125, -0.1628, -2.0184,\n",
      "         0.3838, -2.1188, -0.8136, -1.5694,  0.7934, -0.2911, -1.3640, -0.2366,\n",
      "        -0.9564, -0.5265,  0.0624,  1.7084], grad_fn=<SqueezeBackward4>)\n"
     ]
    }
   ],
   "source": [
    "context_vector_2 = attention_weights_2.matmul(values)\n",
    "\n",
    "print(context_vector_2.shape)\n",
    "print(context_vector_2)"
   ],
   "metadata": {
    "collapsed": false,
    "ExecuteTime": {
     "end_time": "2024-10-17T22:54:10.460351Z",
     "start_time": "2024-10-17T22:54:10.452394Z"
    }
   },
   "id": "1f9f7f975cea5bb",
   "execution_count": 35
  },
  {
   "cell_type": "markdown",
   "source": [
    "## Multi-Head Attention"
   ],
   "metadata": {
    "collapsed": false
   },
   "id": "73c4be10ba2019d9"
  },
  {
   "cell_type": "code",
   "outputs": [],
   "source": [
    "h = 3\n",
    "multihead_W_query = torch.nn.Parameter(torch.rand(h, d_q, d))\n",
    "multihead_W_key = torch.nn.Parameter(torch.rand(h, d_k, d))\n",
    "multihead_W_value = torch.nn.Parameter(torch.rand(h, d_v, d))"
   ],
   "metadata": {
    "collapsed": false,
    "ExecuteTime": {
     "end_time": "2024-10-17T22:57:14.079452Z",
     "start_time": "2024-10-17T22:57:14.076075Z"
    }
   },
   "id": "40767294da6056f3",
   "execution_count": 36
  },
  {
   "cell_type": "code",
   "outputs": [
    {
     "name": "stdout",
     "output_type": "stream",
     "text": [
      "torch.Size([3, 24])\n"
     ]
    }
   ],
   "source": [
    "multihead_query_2 = multihead_W_query.matmul(x_2)\n",
    "print(multihead_query_2.shape)"
   ],
   "metadata": {
    "collapsed": false,
    "ExecuteTime": {
     "end_time": "2024-10-17T22:57:47.024154Z",
     "start_time": "2024-10-17T22:57:47.020479Z"
    }
   },
   "id": "19372a7d3238ed36",
   "execution_count": 37
  },
  {
   "cell_type": "code",
   "outputs": [
    {
     "name": "stdout",
     "output_type": "stream",
     "text": [
      "3 24 16 torch.Size([3, 24])\n",
      "3 28 16 torch.Size([3, 28])\n"
     ]
    }
   ],
   "source": [
    "multihead_key_2 = multihead_W_key.matmul(x_2)\n",
    "multihead_value_2 = multihead_W_value.matmul(x_2)\n",
    "\n",
    "print(h, d_k, d, multihead_key_2.shape)\n",
    "print(h, d_v, d, multihead_value_2.shape)"
   ],
   "metadata": {
    "collapsed": false,
    "ExecuteTime": {
     "end_time": "2024-10-17T22:59:10.060099Z",
     "start_time": "2024-10-17T22:59:10.058694Z"
    }
   },
   "id": "91229ed5fc47a191",
   "execution_count": 39
  },
  {
   "cell_type": "code",
   "outputs": [
    {
     "name": "stdout",
     "output_type": "stream",
     "text": [
      "torch.Size([3, 16, 6])\n"
     ]
    }
   ],
   "source": [
    "stacked_inputs = embedded_sentence.T.repeat(3, 1, 1)\n",
    "print(stacked_inputs.shape)"
   ],
   "metadata": {
    "collapsed": false,
    "ExecuteTime": {
     "end_time": "2024-10-17T23:00:03.267786Z",
     "start_time": "2024-10-17T23:00:03.263569Z"
    }
   },
   "id": "9945feab0bf19848",
   "execution_count": 40
  },
  {
   "cell_type": "code",
   "outputs": [
    {
     "name": "stdout",
     "output_type": "stream",
     "text": [
      "multihead_keys.shape: torch.Size([3, 24, 6])\n",
      "multihead_values.shape: torch.Size([3, 28, 6])\n"
     ]
    }
   ],
   "source": [
    "multihead_keys = torch.bmm(multihead_W_key, stacked_inputs)\n",
    "multihead_values = torch.bmm(multihead_W_value, stacked_inputs)\n",
    "print(\"multihead_keys.shape:\", multihead_keys.shape)\n",
    "print(\"multihead_values.shape:\", multihead_values.shape)"
   ],
   "metadata": {
    "collapsed": false,
    "ExecuteTime": {
     "end_time": "2024-10-17T23:00:26.509227Z",
     "start_time": "2024-10-17T23:00:26.503717Z"
    }
   },
   "id": "bf516f0e5a184965",
   "execution_count": 41
  },
  {
   "cell_type": "code",
   "outputs": [
    {
     "name": "stdout",
     "output_type": "stream",
     "text": [
      "multihead_keys.shape: torch.Size([3, 6, 24])\n",
      "multihead_values.shape: torch.Size([3, 6, 28])\n"
     ]
    }
   ],
   "source": [
    "multihead_keys = multihead_keys.permute(0, 2, 1)\n",
    "multihead_values = multihead_values.permute(0, 2, 1)\n",
    "print(\"multihead_keys.shape:\", multihead_keys.shape)\n",
    "print(\"multihead_values.shape:\", multihead_values.shape)"
   ],
   "metadata": {
    "collapsed": false,
    "ExecuteTime": {
     "end_time": "2024-10-17T23:01:44.642557Z",
     "start_time": "2024-10-17T23:01:44.638053Z"
    }
   },
   "id": "f9422c4c51e08a5",
   "execution_count": 42
  }
 ],
 "metadata": {
  "kernelspec": {
   "display_name": "Python 3",
   "language": "python",
   "name": "python3"
  },
  "language_info": {
   "codemirror_mode": {
    "name": "ipython",
    "version": 2
   },
   "file_extension": ".py",
   "mimetype": "text/x-python",
   "name": "python",
   "nbconvert_exporter": "python",
   "pygments_lexer": "ipython2",
   "version": "2.7.6"
  }
 },
 "nbformat": 4,
 "nbformat_minor": 5
}
